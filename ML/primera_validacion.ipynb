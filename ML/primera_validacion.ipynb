{
 "cells": [
  {
   "cell_type": "code",
   "execution_count": null,
   "metadata": {},
   "outputs": [],
   "source": [
    "# intento de validar algoritmo de regresion logistica \n",
    "# importamos las librerias solicitadas\n",
    "import pandas as pd\n",
    "from sklearn.model_selection import train_test_split\n",
    "from sklearn.linear_model import LogisticRegression\n",
    "from sklearn.metrics import accuracy_score, classification_report, confusion_matrix\n",
    "\n",
    "# realizamos la carga del data set \n",
    "df = pd.read_csv('dataset_phishing.csv')\n",
    "\n",
    "# falta definir features\n",
    "\n",
    "# seteo de coordenadas \n",
    "X = df.drop(columns=['status'])  # sacamos del data set el target\n",
    "y = df['status'] # asignamos a variable \"y\" el target 'status'\n",
    "\n",
    "# separar el dataset para realzar pruebas \n",
    "X_train, X_test, y_train, y_test = train_test_split(X, y, test_size=0.2, random_state=42)\n",
    "\n",
    "# Creamos y entrenamos el modelo de regresion logistica\n",
    "model = LogisticRegression(max_iter=1000)\n",
    "model.fit(X_train, y_train)\n",
    "\n",
    "# Realizar predicciones\n",
    "y_pred = model.predict(X_test)\n",
    "\n",
    "# Evaluamos el modelo\n",
    "puntaje = accuracy_score(y_test, y_pred)\n",
    "confusion= confusion_matrix(y_test, y_pred)\n",
    "reporte = classification_report(y_test, y_pred)\n",
    "\n",
    "print(f'Puntaje: {accuracy:.2f}')\n",
    "print('Matriz de Confusion:')\n",
    "print(confusion)\n",
    "print('Clasificacion de Reporte:')\n",
    "print(reporte)"
   ]
  },
  {
   "cell_type": "code",
   "execution_count": null,
   "metadata": {},
   "outputs": [],
   "source": [
    "# intento de validar Random Forest"
   ]
  }
 ],
 "metadata": {
  "language_info": {
   "name": "python"
  }
 },
 "nbformat": 4,
 "nbformat_minor": 2
}
