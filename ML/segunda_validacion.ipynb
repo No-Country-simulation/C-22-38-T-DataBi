{
 "cells": [
  {
   "cell_type": "code",
   "execution_count": null,
   "metadata": {},
   "outputs": [],
   "source": [
    "\n",
    "\n",
    "#algoritmo random forest \n",
    "import pandas as pd\n",
    "from sklearn.model_selection import train_test_split\n",
    "from sklearn.ensemble import RandomForestClassifier\n",
    "from sklearn.metrics import accuracy_score, classification_report, confusion_matrix\n",
    "from sklearn.preprocessing import StandardScaler\n",
    "\n",
    "# Cargar el dataset\n",
    "df = pd.read_csv('dataset_phishing.csv')\n",
    "\n",
    "# Falta definir Features\n",
    "\n",
    "# Definir la variable objetivo y las características\n",
    "# Suponiendo que 'status' es la columna objetivo que indica phishing (1) o no phishing (0)\n",
    "X = df.drop(columns=['status'])  # Eliminar la columna objetivo del conjunto de características\n",
    "y = df['status']  # Variable objetivo\n",
    "\n",
    "# Dividir el dataset en conjuntos de entrenamiento y prueba\n",
    "X_train, X_test, y_train, y_test = train_test_split(X, y, test_size=0.2, random_state=42)\n",
    "\n",
    "# Normalizar los datos \n",
    "scaler = StandardScaler()\n",
    "X_train = scaler.fit_transform(X_train)\n",
    "X_test = scaler.transform(X_test)\n",
    "\n",
    "# Crear y entrenar el modelo de Random Forest\n",
    "model = RandomForestClassifier(n_estimators=100, random_state=42)\n",
    "model.fit(X_train, y_train)\n",
    "\n",
    "# Hacer predicciones sobre el conjunto de prueba\n",
    "y_pred = model.predict(X_test)\n",
    "\n",
    "# Evaluar el modelo\n",
    "puntaje = accuracy_score(y_test, y_pred)\n",
    "confusion= confusion_matrix(y_test, y_pred)\n",
    "reporte = classification_report(y_test, y_pred)\n",
    "\n",
    "print(f'Puntaje: {accuracy:.2f}')\n",
    "print('Matriz de Confusion:')\n",
    "print(confusion)\n",
    "print('Clasificacion Reporte:')\n",
    "print(reporte)"
   ]
  }
 ],
 "metadata": {
  "language_info": {
   "name": "python"
  }
 },
 "nbformat": 4,
 "nbformat_minor": 2
}
