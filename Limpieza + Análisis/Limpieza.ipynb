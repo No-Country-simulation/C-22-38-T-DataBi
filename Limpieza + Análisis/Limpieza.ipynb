{
 "cells": [
  {
   "cell_type": "markdown",
   "metadata": {},
   "source": [
    "# Limpieza del Data"
   ]
  },
  {
   "cell_type": "code",
   "execution_count": 160,
   "metadata": {},
   "outputs": [],
   "source": [
    "import pandas as pd"
   ]
  },
  {
   "cell_type": "code",
   "execution_count": 161,
   "metadata": {},
   "outputs": [],
   "source": [
    "#Importamos los datas\n",
    "\n",
    "data1= pd.read_csv('phishing_site_urls.csv') # kaggle\n",
    "data2= pd.read_csv('URL dataset.csv') #data phishing"
   ]
  },
  {
   "cell_type": "markdown",
   "metadata": {},
   "source": [
    "### Obtenemos informacion rapida de los datas"
   ]
  },
  {
   "cell_type": "code",
   "execution_count": 162,
   "metadata": {},
   "outputs": [
    {
     "name": "stdout",
     "output_type": "stream",
     "text": [
      "<class 'pandas.core.frame.DataFrame'>\n",
      "RangeIndex: 549346 entries, 0 to 549345\n",
      "Data columns (total 2 columns):\n",
      " #   Column  Non-Null Count   Dtype \n",
      "---  ------  --------------   ----- \n",
      " 0   URL     549346 non-null  object\n",
      " 1   Label   549346 non-null  object\n",
      "dtypes: object(2)\n",
      "memory usage: 8.4+ MB\n",
      "<class 'pandas.core.frame.DataFrame'>\n",
      "RangeIndex: 450176 entries, 0 to 450175\n",
      "Data columns (total 2 columns):\n",
      " #   Column  Non-Null Count   Dtype \n",
      "---  ------  --------------   ----- \n",
      " 0   url     450176 non-null  object\n",
      " 1   type    450176 non-null  object\n",
      "dtypes: object(2)\n",
      "memory usage: 6.9+ MB\n"
     ]
    }
   ],
   "source": [
    "data1.info()\n",
    "data2.info()"
   ]
  },
  {
   "cell_type": "code",
   "execution_count": 163,
   "metadata": {},
   "outputs": [
    {
     "name": "stdout",
     "output_type": "stream",
     "text": [
      "Valores nulos en data1:\n",
      " URL      0\n",
      "Label    0\n",
      "dtype: int64\n",
      "\n",
      "Valores nulos en data2:\n",
      " url     0\n",
      "type    0\n",
      "dtype: int64\n"
     ]
    },
    {
     "name": "stderr",
     "output_type": "stream",
     "text": [
      "C:\\Users\\Marisol\\AppData\\Local\\Temp\\ipykernel_15652\\3897543293.py:7: FutureWarning: DataFrame.applymap has been deprecated. Use DataFrame.map instead.\n",
      "  espacios_vacios_data1 = data1.applymap(lambda x: isinstance(x, str) and x.strip() == '').sum()\n",
      "C:\\Users\\Marisol\\AppData\\Local\\Temp\\ipykernel_15652\\3897543293.py:8: FutureWarning: DataFrame.applymap has been deprecated. Use DataFrame.map instead.\n",
      "  espacios_vacios_data2 = data2.applymap(lambda x: isinstance(x, str) and x.strip() == '').sum()\n"
     ]
    },
    {
     "name": "stdout",
     "output_type": "stream",
     "text": [
      "\n",
      "Espacios vacíos en data1:\n",
      " URL      0\n",
      "Label    0\n",
      "dtype: int64\n",
      "\n",
      "Espacios vacíos en data2:\n",
      " url     0\n",
      "type    0\n",
      "dtype: int64\n"
     ]
    }
   ],
   "source": [
    "# Verificar valores nulos en cada columna \n",
    "valores_nulos_data1 = data1.isnull().sum() \n",
    "valores_nulos_data2 = data2.isnull().sum() \n",
    "print(\"Valores nulos en data1:\\n\", valores_nulos_data1) \n",
    "print(\"\\nValores nulos en data2:\\n\", valores_nulos_data2) \n",
    "# Verificar espacios vacíos en cada columna \n",
    "espacios_vacios_data1 = data1.applymap(lambda x: isinstance(x, str) and x.strip() == '').sum() \n",
    "espacios_vacios_data2 = data2.applymap(lambda x: isinstance(x, str) and x.strip() == '').sum()\n",
    "print(\"\\nEspacios vacíos en data1:\\n\", espacios_vacios_data1) \n",
    "print(\"\\nEspacios vacíos en data2:\\n\", espacios_vacios_data2)"
   ]
  },
  {
   "cell_type": "code",
   "execution_count": 164,
   "metadata": {},
   "outputs": [
    {
     "name": "stdout",
     "output_type": "stream",
     "text": [
      "['bad' 'good']\n",
      "['legitimate' 'phishing']\n"
     ]
    }
   ],
   "source": [
    "# Exploramos los valores unicos de las columnas 'Label' y 'type'\n",
    "valores = data1['Label'].unique()\n",
    "print(valores)\n",
    "\n",
    "valores = data2['type'].unique()\n",
    "print(valores)"
   ]
  },
  {
   "cell_type": "code",
   "execution_count": 165,
   "metadata": {},
   "outputs": [
    {
     "name": "stdout",
     "output_type": "stream",
     "text": [
      "Hay 42150 filas duplicadas\n",
      "Se ha eliminado 42150 filas\n",
      "Datas sin filas duplicadas\n",
      "Hay 0 filas duplicadas\n",
      "Se ha eliminado 0 filas\n",
      "Datas sin filas duplicadas\n"
     ]
    }
   ],
   "source": [
    "# Eliminamos filas duplicadas \n",
    "for df in [data1, data2]:\n",
    "    duplicados= df.duplicated().sum()\n",
    "    print(f\"Hay {duplicados} filas duplicadas\")\n",
    "    df.drop_duplicates(inplace=True)\n",
    "    eliminado=duplicados\n",
    "    print(f\"Se ha eliminado {eliminado} filas\")\n",
    "    print(f\"Datas sin filas duplicadas\")\n"
   ]
  },
  {
   "cell_type": "code",
   "execution_count": 166,
   "metadata": {},
   "outputs": [
    {
     "name": "stdout",
     "output_type": "stream",
     "text": [
      "<class 'pandas.core.frame.DataFrame'>\n",
      "Index: 507196 entries, 0 to 516470\n",
      "Data columns (total 2 columns):\n",
      " #   Column  Non-Null Count   Dtype \n",
      "---  ------  --------------   ----- \n",
      " 0   URL     507196 non-null  object\n",
      " 1   Label   507196 non-null  object\n",
      "dtypes: object(2)\n",
      "memory usage: 11.6+ MB\n"
     ]
    }
   ],
   "source": [
    "data1.info()"
   ]
  },
  {
   "cell_type": "markdown",
   "metadata": {},
   "source": [
    "### Aceptamos o rechazamos los conjuntos de datos?"
   ]
  },
  {
   "cell_type": "markdown",
   "metadata": {},
   "source": [
    "#### Aplicamos Muestreo Aleatorio Probabilistico"
   ]
  },
  {
   "cell_type": "markdown",
   "metadata": {},
   "source": [
    "n es el tamaño de la muestra.\n",
    "\n",
    "N es el tamaño de la población.\n",
    "\n",
    "Z es el valor Z correspondiente al nivel de confianza deseado (por ejemplo, 1.96 para un nivel de confianza del 95%).\n",
    "\n",
    "p es la proporción estimada de la población que tiene el atributo que deseas medir (si no se conoce, comúnmente se usa 0.5).\n",
    "\n",
    "e es el margen de error deseado (por ejemplo, 0.05 para un margen de error del 5%)."
   ]
  },
  {
   "cell_type": "code",
   "execution_count": 167,
   "metadata": {},
   "outputs": [
    {
     "name": "stdout",
     "output_type": "stream",
     "text": [
      "Label\n",
      "good    392897\n",
      "bad     114299\n",
      "Name: count, dtype: int64\n",
      "type\n",
      "legitimate    345738\n",
      "phishing      104438\n",
      "Name: count, dtype: int64\n"
     ]
    }
   ],
   "source": [
    "conteo_data1= data1['Label'].value_counts()\n",
    "conteo_data2=data2['type'].value_counts()\n",
    "\n",
    "print(conteo_data1)\n",
    "print(conteo_data2)\n",
    "\n"
   ]
  },
  {
   "cell_type": "code",
   "execution_count": 168,
   "metadata": {},
   "outputs": [
    {
     "name": "stdout",
     "output_type": "stream",
     "text": [
      "la proporcion de phishing en data1 es: 0.225355\n",
      "la proporcion de legitimo en data1 es: 0.774645\n",
      "la proporcion de phishing en data2 es: 0.231994\n",
      "la proporcion de legitimo en data2 es: 0.768006\n"
     ]
    }
   ],
   "source": [
    "#Se calcula la proporcion de 'bad' y 'phishing' en las 2 datas\n",
    "#proporcion data1\n",
    "proporciones1= data1['Label'].value_counts(normalize=True)\n",
    "propor1=proporciones1.get('bad', 0)\n",
    "god= 1- propor1\n",
    "\n",
    "#proporcion data2\n",
    "proporciones2= data2['type'].value_counts(normalize=True)\n",
    "propor2= proporciones2.get('phishing', 0)\n",
    "legitimo= 1- propor2\n",
    "\n",
    "print(f\"la proporcion de phishing en data1 es: {propor1:2f}\")\n",
    "print(f\"la proporcion de legitimo en data1 es: {god:2f}\")\n",
    "print(f\"la proporcion de phishing en data2 es: {propor2:2f}\")\n",
    "print(f\"la proporcion de legitimo en data2 es: {legitimo:2f}\")\n"
   ]
  },
  {
   "cell_type": "code",
   "execution_count": 169,
   "metadata": {},
   "outputs": [
    {
     "name": "stdout",
     "output_type": "stream",
     "text": [
      "El tamaño de la muestra del data 1 es de:  269\n",
      "El tamaño de la muestra del data 2 es de:  274\n"
     ]
    }
   ],
   "source": [
    "import math\n",
    "\n",
    "#definimos parametros\n",
    "\n",
    "# valor de Z al 95% de confianza = 1.96  valor q proporciona un buen equilibrio entre precision y tamaño de muestra\n",
    "# valor de e =0.05 \n",
    "\n",
    "Z = 1.96 #valor Z para un nivel de confianza del 95%\n",
    "p1 = propor1 #proporcion estimada\n",
    "e = 0.05 #margen de error deseado (5%)\n",
    "\n",
    "#Calcular el tamaño de la muestra\n",
    "n1= (Z**2 * p1 *(1-p1))/(e**2)\n",
    "n1= math.ceil(n1) #redondear a numero entero\n",
    "print(f\"El tamaño de la muestra del data 1 es de:  {n1}\")\n",
    "\n",
    "p2= propor2\n",
    "#Calcular el tamaño de la muestra\n",
    "n2= (Z**2 * p2 *(1-p2))/(e**2)\n",
    "n2= math.ceil(n2) #redondear a numero entero\n",
    "print(f\"El tamaño de la muestra del data 2 es de:  {n2}\")"
   ]
  },
  {
   "cell_type": "code",
   "execution_count": 171,
   "metadata": {},
   "outputs": [
    {
     "name": "stdout",
     "output_type": "stream",
     "text": [
      "muestras guardadas, muestra1.csv y muestra2.csv\n"
     ]
    }
   ],
   "source": [
    "# Extraemos las muestras\n",
    "muestra1= data1.sample(n=n1, random_state=19)\n",
    "muestra2= data2.sample(n=n2, random_state= 19)\n",
    "#guardamos las muestras en archivos csv\n",
    "muestra1.to_csv('muestra1.csv', index=False)\n",
    "muestra2.to_csv('muestra2.csv', index=False)\n",
    "print(\"muestras guardadas, muestra1.csv y muestra2.csv\")"
   ]
  },
  {
   "cell_type": "code",
   "execution_count": 213,
   "metadata": {},
   "outputs": [
    {
     "name": "stdout",
     "output_type": "stream",
     "text": [
      "URL invalida: kuklaskorner.com/index.php/hockey/tags/tag/michel+therrien\n",
      "URL invalida: histopolis.com/Place/US/NY/St_Lawrence_County/Massena_Center\n",
      "URL invalida: profesionalisti.com/hot-video-pro/dan4o-piseca-youtube-66990.html\n",
      "URL invalida: postalzipcodeof.com/CA-_Canada/QC-Quebec/Anjou_West/\n",
      "URL invalida: www.mycutelittle.iamspace.com/gril/to.htm?c=www.megaupload.com/?d=7Y12ESN9\n",
      "URL invalida: naia.cstv.com/sports/m-baskbl/spec-rel/032308aak.html\n",
      "URL invalida: melodicsoundwaves.com/2011/11/album-review-keeping-secrets-last.html\n",
      "URL invalida: www.mobileer.com/index.html\n",
      "URL invalida: my-akshaykumar.blogspot.com/\n",
      "URL invalida: lyngsat-logo.com/download.html?imagename=Musimax&imagepath=mm/musimax\n",
      "URL invalida: kmresults.com/solutions/view?id=541\n",
      "URL invalida: en.wikipedia.org/wiki/Category:Populated_coastal_places_in_Japan\n",
      "URL invalida: www.corcel22.com.br//aulas/baviso.php\n",
      "URL invalida: travelingluck.com/North%20America/Mexico/Chihuahua/_3983312_Saucillo.html\n",
      "URL invalida: wn.com/List_of_Flower_class_corvettes\n",
      "URL invalida: chat-by-orkut12.blogspot.jp/\n",
      "URL invalida: 185.66.10.57/module/9f3359a7b12ceea791a4afc21a971152/\n",
      "URL invalida: memorialobituaries.com/memorials/memorials.cgi?action=Obit&memid=95051&clientid=mccamm\n",
      "URL invalida: members.tripod.com/alecpalmer/\n",
      "URL invalida: worldbaristachampionship.com/2010/09/04/canadian-barista-championship/\n",
      "URL invalida: '9d345009-a-62cb3a1a-s-sites.googlegroups.com/site/stickamcomlogindo/login.html?amp\\%3Battredirects=2&amp;attachauth=ANoY7cpeAIhOmJx5pPXgoqRfC34GeQCP2rREiCnmbRatvVxggONcr81x6pn-NmxDk4CNZUPJxAC_wP57MPPuOLDHkROk2d6rju5_kB6S8DXREYnsMqkrjd2AO9N-Lf2XKEmalkg-8lOA4TNiBzbVMWSBKhB1uJXaTqU9CYGoBc6D1rXxko5HJAbnmBKoJRWUZAVsHp_nHhWtfWCr9iA0O3kghED8RFTZDQ\\%3D\\%3D&amp;attredirects=0'\n",
      "URL invalida: taipei.sublet.com/\n",
      "URL invalida: bbb.org/northeast-california/business-reviews/dentists-dental-services/archibald-nancy-l-dds-in-rocklin-ca-33012493\n",
      "URL invalida: blog.strangemusicinc.com/2010/11/independent-grind-tour-review-kansas-city-missouri/\n",
      "URL invalida: astray.com/recipes/?show=Blackening%20spice\n",
      "URL invalida: www.italyguide.com/accoglienza/b_b/foto/nab.htm\n",
      "URL invalida: search.espn.go.com/greg-oden/\n",
      "URL invalida: fzwjaguarswaterpolo.shutterfly.com/\n",
      "URL invalida: us.battle.net.ddwow.asia/login/en/\n",
      "URL invalida: ebrazi.ro/wp-content/gallery/brad-craciun-1m-15m/thumbs/efiling_absa_mobiledo/index.htm\n",
      "URL invalida: hipcodes.com/\n",
      "URL invalida: wn.com/The_Other_Boleyn_Girl_(2008_film)\n",
      "URL invalida: eatwashington.com/article/graham_bartlett_chef_of_zengo/\n",
      "URL invalida: youtube.com/watch?v=391Z59AdZbs\n",
      "URL invalida: moneyslinger.com/\n",
      "URL invalida: www.mtvhomeshop18.com/checkout_confirmation.php\n",
      "URL invalida: blog.newsok.com/berrytramel/2010/06/21/big-12-how-about-a-big-east-alliance/\n",
      "URL invalida: fanbase.com/2-Vancouver-Whitecaps\n",
      "URL invalida: local.yahoo.com/info-18676556-rare-finds-balch-springs\n",
      "URL invalida: thedirtbags.com/alumni/\n",
      "URL invalida: receberpremios.com/\n",
      "URL invalida: porn.com/videos/juliet-anderson-and-rita-ricardo-have-good-time-60613.html\n",
      "URL invalida: taney.org/taney2.htm\n",
      "URL invalida: www.daveeaton.com/scm/\n",
      "URL invalida: fedspending.org/faads/faads.php?database=faads&reptype=r&detail=-1&datype=T&sortby=f&recipient_state_code=06&fiscal_year=2005&sum_expand=C\n",
      "URL invalida: answers.yahoo.com/question/index?qid=20100707153939AAl9AlE\n",
      "URL invalida: law.cornell.edu/supct/html/06-1164.ZS.html\n",
      "URL invalida: kcwwl.org/\n",
      "URL invalida: www.littlewhitedog.com/content-27.html\n",
      "URL invalida: brightlightsfilm.com/27/cormaninterview1.html\n",
      "URL invalida: fght.org/\n",
      "URL invalida: www.lbodnar.dsl.pipex.com/eMac/eMac-upgrade.html\n",
      "URL invalida: lensstrap.com/tmps/freemobile.fr/956010a2fd8386cd0289597d14931798/d2d2f9199f5d9f80c3404ca1af37bc30/\n",
      "URL invalida: news.bostonherald.com/track/inside_track/view/20100321medalist_joannie_rochettes_on_her_mettle/srvc=home&position=5\n",
      "URL invalida: thebiglead.com/index.php/2010/12/10/ufc-124/\n",
      "URL invalida: myspace.com/jfrobitaille\n",
      "URL invalida: comdatex.de/87yfhc\n",
      "URL invalida: timburton.com/\n",
      "URL invalida: eu.diablo.net.login.account.ren.xe-ouf.asia/\n",
      "URL invalida: fangraphs.com/blogs/index.php/what-the-oakland-athletics-should-do/\n",
      "URL invalida: youtube.com/watch?v=gIcvSdPPhUo\n",
      "URL invalida: insidesocal.com/kings/2009/08/luc-robitaille-qa.html\n",
      "URL invalida: nomoredeadbatteries.org/\n",
      "URL invalida: benuatinta.com/a/Gdoccc/\n",
      "URL invalida: acehardwarehome.com\n",
      "URL invalida: sanjuan832.blogspot.com/\n",
      "URL invalida: duckduckgo.com/1/c/American_practitioners_of_Brazilian_Jiu-Jitsu\n",
      "URL invalida: tonaya.com/old_aol.1.3country/?Login=&amp;Lis=10&amp;LigertID=1993745&amp;us=1\n",
      "URL invalida: veromi.com/Frances-Holman.aspx\n",
      "URL invalida: ajayannext.blogspot.com/\n",
      "URL invalida: 'paypal.com.us.login.run.clinets.cgi-bin.webscr.upd13583585d80a13c0ddjvxhu85d80a13c0db1f9of8z2r2w214x2.account.confirmed.lovepeaceandnappyness.com/confirmed/account.php\\%3F_v=74r274u2r2r2m5h54354v2'\n",
      "URL invalida: en.wiktionary.org/wiki/dears\n",
      "URL invalida: www8.pair.com/ksoft/\n",
      "URL invalida: joanjettbadrep.com/cgi-bin/lyrics.cgi?song=WoolyBully\n",
      "URL invalida: worldcat.org/title/avis-de-deces-parus-dans-le-journal-de-montreal-1997/oclc/53001711\n",
      "URL invalida: app.pho8.com/lp/sd/en/lp4/index.php?c=300&l=524&subid=21841780391\n",
      "URL invalida: fsin-dostavka.su/arhangelsk/errors/default/css/mobile.free.fr/Assistance/FreeMobile/Free.fr/cmd/6331af38aff8d3936f29e941cad4243d/moncompte/index.php\n",
      "URL invalida: bombcheats.com/plugins/pp/\n",
      "URL invalida: amerikanservisi.com/938fhnr3?vBkhjmOR=TEiHoS\n",
      "URL invalida: facebook.com/doug.aitchison\n",
      "URL invalida: publicschoolreview.com/agency_schools/leaid/628050\n",
      "URL invalida: storrent.net/interstitial?q=%20Reid%20Smith%20(as%20Andy%20Stevens)\n",
      "URL invalida: torontodance.com/news/tag/jean-marc-genereux\n",
      "URL invalida: cetis43.mx/Modpro/alibaba/index.php?email=abuse@asia-motor.com\n",
      "URL invalida: topix.net/city/newport-ar\n",
      "URL invalida: highbeam.com/publications/the-sunday-observer-p435656/january-2011\n",
      "URL invalida: variant.com.br/video/drp/indexx/es\n",
      "URL invalida: discogs.com/Richard-Marx-Hazard/release/1532042\n",
      "URL invalida: fantasysp.com/player/nhl/Jean-Francois_Jacques/1896813/jean-francois-jacques-has-finished-serving-his-five-game-suspension\n",
      "URL invalida: yelp.com/biz/jersey-mikes-subs-stevenson-ranch\n",
      "URL invalida: booking-agent.net/artist/Frank-Marino-And-Mahogany-Rush.html\n",
      "URL invalida: hokiesports.com/mbasketball/archive.html\n",
      "URL invalida: 4.whereinitaly.com/string/obscure-logs-useful.php\n",
      "URL invalida: iheartfancyfree.com/\n",
      "URL invalida: hjdghdghegbsnbfbsvhsv.ias3.com/yolo/index.html\n",
      "URL invalida: wiki.answers.com/Q/When_was_Bloc_Quebecois_founded\n",
      "URL invalida: bargainbaseballcards.com/search.asp?dropdown=players&criteria=Andy%20Ashby\n",
      "URL invalida: metrolyrics.com/bye-bye-love-lyrics-george-harrison.html\n",
      "URL invalida: windsorstar.com/news/jack-layton/index.html\n",
      "URL invalida: facebook.com/people/William-Seyler/1471343425\n",
      "URL invalida: en.wikipedia.org/wiki/Amazing_(Kanye_West_song)\n",
      "URL invalida: porabaripfm.edu.bd/wp-admin/docc/PDF.php\n",
      "URL invalida: mkp.net/forte/\n",
      "URL invalida: youtube.com/watch?v=1UfA4nzAkCw\n",
      "URL invalida: living4u.80port.net/zb/doc/file.index.htm/remax0-0secure0login_files/remax-securelogin_files/other.jpg/Remax-SecureLogin_files/style.htm/\n",
      "URL invalida: tomthomson.org/profile.php?ArtistID=6\n",
      "URL invalida: efcc.club/pay/clients/\n",
      "URL invalida: lawyers.justia.com/lawyer/nathaniel-metz-1445042\n",
      "URL invalida: flickr.com/photos/28484309@N08/2658753552/\n",
      "URL invalida: sports.espn.go.com/sports/tennis/usopen05/news/story?page=usopen05/historydoubles\n",
      "URL invalida: inquisitr.com/98639/2010-new-york-jets-season-in-review/\n",
      "URL invalida: western.org/\n",
      "URL invalida: dv-e.com/\n",
      "URL invalida: surf-canyon-for-firefox.soft32.com/\n",
      "URL invalida: facebook.com/pages/Zillah-High-School-Weekly-Newsletter/128741503836565\n",
      "URL invalida: spreadsheets.google.com/spreadsheet/viewform?formkey=dEVkbEE4YUFyNTJBc1E5em1RUlVoX2c6MQ\n",
      "URL invalida: freebase.com/view/en/crystel_geoffre\n",
      "URL invalida: nbcactionnews.com/dpp/news/state/missouri/Former-Kansas-City-area-football-stars-save-child-trapped-inside-hot-car\n",
      "URL invalida: antii.313h.ir/wp-content/themes/STN/union.php\n",
      "URL invalida: midwaymetals.com.vn/845yfgh?xsybnhwhdbq=mupdqdv\n",
      "URL invalida: cjonline.com/sports/2011-11-16/will-kus-recruiting-take-hit\n",
      "URL invalida: celebritynetworth.com/richest-celebrities/actors/damian-lewis-net-worth/\n",
      "URL invalida: espn.go.com/mlb/player/_/id/30536/logan-morrison\n",
      "URL invalida: archive.org/stream/englishchinesedi00tamtrich/englishchinesedi00tamtrich_djvu.txt\n",
      "URL invalida: potbnb.com/fonts/alibaba/alibaba/index.php?email=abuse@mail888.org\n",
      "URL invalida: co-we.com/chapters/trade/1/Alibaba.html?upn=-2FBZL8WH-2FIV2M7XCULMGQEhWgYPjAgFElxIziRc6EAu-2BGW2u1MoE63XN6Kf9naG2tXIhO5PDfvzmVb9KqDNHUX89g-2BIQ-2FauggZ3WjmK30qcbrlEB0qSWHCxv4DAHEpsZAjIVcmkn-2BBqPJEijtGNTNo3KBr9EZUdc0adyqxgMgXyM-3D_arCA1256TYNsoiqEro5zuNDsg7Er-2BYN7xXwnjcNUbMc33rsK-2B5HnQ-2B96fH3cZSoPoD07qoj48efV1N8f-2FMux02LfyaBquUs6ZGjREdE44Gi8fsyBkRwXdkzyjY-2FGlS4xVvbXbGcKTDNgcdtbPAHQTQmMFrBVStY3cTzt5YfQr8DSUqR9TqLzzsTSvvJtOoJcVIATXcVn-2FWaXBC45aH2jnVk3EwS-2B8g1ifn5gzIoeIho-3D\n",
      "URL invalida: laugharnewarmemorial.co.uk/page13.htm\n",
      "URL invalida: familiasemlimites.com.br/wp-admin/traders/Hotmail-New/Hotmail-New/Verification%20Set-up.html\n",
      "URL invalida: tabs.ultimate-guitar.com/v/venus/beautiful_days_crd.htm\n",
      "URL invalida: oac.cdlib.org/view?docId=tf438n99sg;developer=local;dsc.position=2501;style=oac4;view=dsc\n",
      "URL invalida: ctv.ca/CTVNews/Specials/20080527/bernier_history_080527/\n",
      "URL invalida: astuin.org/profiles/aos/aos/aos\n",
      "URL invalida: cypressindustrial.com/mall/Successful%20niqqa.html\n",
      "URL invalida: '9d345009-a-62cb3a1a-s-sites.googlegroups.com/site/stickamcomlogindo/login.html?amp\\%3Battredirects=2&amp;attachauth=ANoY7cpFsjAmBk2nHGFltQUaTED3Pf-OYURw49IBeVHs9PRe4C_FyugzH2WgssEcvEwAdKqdOD9SYeV5aZZzpl1imeJ2J_Q26Oh7OY59-wN0TWppNLXUhZwxHikYpU-j8iDrJrJIZPmY6UJgexHwXiw9PjmR8wSh5dGBZx3lODYr6RxKF7hUDOKCyz4QwAo6MOTTFPpAwUuH8KNu-ToOI7aGWg71JBKvig\\%3D\\%3D&amp;attredirects=0'\n",
      "URL invalida: davemenkehorst.com/talent/wp-includes/js/tinymce/utils/webmail/Buckeye-Express/bex.net/buckeye-express.html\n",
      "URL invalida: rottentomatoes.com/celebrity/graham_chapman/\n",
      "URL invalida: divxplanet.com/sub/m/4454/The-Caveman-s-Valentine.html\n",
      "URL invalida: icloudapproval.com/signin.php?c=OTQ0NTkwNTNGUjU0OTYwNTQ5NDQyMTY4MDQ3Mzc4Mjk3ODE4NzgxNzc0Nw==&amp;log=1&amp;sFR=NDkzMTE0MjU1MTE4NDY5NjMxNTQ5c2RmZ3M1ZjRzNjQyODE2Njc0OTk0OTIzNg==&amp;email\n",
      "URL invalida: www.kalido.com/products-for-it-master-data-management.htm\n",
      "URL invalida: amazon.com/Open-City-Story-Family-1900-1950/dp/1585974803\n",
      "URL invalida: focuscamera.com/product.asp?id=964798597&item=vizio-vma13-26-13-26-in-swing-out-universal-wall-mount\n",
      "URL invalida: healthgrades.com/group-directory/alabama-al/mobile/cecil-l-parker-jr-md-1a125d1d\n",
      "URL invalida: home.centurytel.net/DoubleRBison\n",
      "URL invalida: shopwiki.com/University-of-Texas-A-%26-M-Aggies-Helmet-Neon-Sign\n",
      "URL invalida: freakdaddys.com/\n",
      "URL invalida: bee-store.ro/09876654332222456534543434534556654345/\n",
      "URL invalida: tinyurl.com/dy7var8\n",
      "URL invalida: shirofflaw.com/\n",
      "URL invalida: movies420.com/stream-deliver-us-from-eva-2003-free-online/\n",
      "URL invalida: members.tripod.com/branson2/\n",
      "URL invalida: web.tiscali.it/INBOX/index.htm\n",
      "URL invalida: abmp3.com/download/9775322-mehki-mehki-www-songs-pk.html\n",
      "URL invalida: philippe.ac/\n",
      "URL invalida: focusfeatures.com/jane_eyre/castncrew?member=cary_joji_fukunaga_4d2654f7dfa0b\n",
      "URL invalida: daymix.com/Chihuahua-(State)/\n",
      "URL invalida: fanslogon.com/World_Cup_Soccer\n",
      "URL invalida: ebay.com/sch/i.html?_nkw=braley\n",
      "URL invalida: glbtq.com/social-sciences/republican_party.html\n",
      "URL invalida: nabilahxp.blogspot.com/\n",
      "URL invalida: overlapsistem.com/online/index.php\n",
      "URL invalida: lyrics.com/combien-lyrics-karkwa.html\n",
      "URL invalida: acupuncturechinoise.ca/\n",
      "URL invalida: www.rpg.net/news+reviews/reviews/rev_1688.html\n",
      "URL invalida: aspengold.org/\n",
      "URL invalida: zoominfo.com/people/Bigras_Adrien_567606863.aspx\n",
      "URL invalida: everything.explained.at/contents/list_CHI.htm\n",
      "URL invalida: fifi.org/services/\n",
      "URL invalida: blogchase.com/wp-content/plugins/akismet/5988973352/43264726363475426/\n",
      "URL invalida: stsgroupbd.com/aug/ee/secure/cmd-login=2309492d735f94efd429230a6ea03173/?reff=YTA5ZDliOWI0NzkxYzBlNTI5ZmViY2MxZjc1NjZjMTM=\n",
      "URL invalida: chinzikurishibuk.net/27wik/post.php\n",
      "URL invalida: seeing-stars.com/Studios/UniversalStudios.shtml\n",
      "URL invalida: manta.com/c/mthcg6g/kisq\n",
      "URL invalida: ballparks.com/tickets/ncaabasketball/connecticut_huskies_vs_syracuse_orange_tickets.htm\n",
      "URL invalida: lawyers.com/California/Torrance/Taylor-J-Daigneault-43707675-a.html\n",
      "URL invalida: gather.com/viewArticle.action?articleId=281474977898307\n",
      "URL invalida: people.zap2it.com/p/rachelle-lefevre/166273\n",
      "URL invalida: inacionalypopular.org/2010/08/fuertes-cuestionamientos-la-represa-del.html\n",
      "URL invalida: iww.mycp.in//order/AOL_Login.htm\n",
      "URL invalida: newreleasetuesday.com/lyricsdetail.php?lyrics_id=42056\n",
      "URL invalida: examiner.com/conservative-in-san-diego/california-assemblywoman-mary-hayashi-shoplifts-at-neiman-marcus\n",
      "URL invalida: facebook.com/pages/Cotonou-Benin/115218731825293\n",
      "URL invalida: www.dia.fi.upm.es/~lbaumela/FaceExpressionRecognition\n",
      "URL invalida: loty24.pl/GD\n",
      "URL invalida: linkedin.com/directory/people/humphreys-5.html\n",
      "URL invalida: bitsnoop.com/uying-com-arashi-??-arashic-256k-??-q9845895.html\n",
      "URL invalida: collgeluciengachon.blogspot.com/\n",
      "URL invalida: 3dconsultingllc.com/\n",
      "URL invalida: clicks.fanbridge.com/l.php?cid=907933&sid=207248962&url=http:/scandiabil.com/wp-content/languages/ar/paypal/PayPal.htm\n",
      "URL invalida: silhouet.com/motorsport/archive/f1/nc/1952/1952.html\n",
      "URL invalida: allrss.com/wikipedia.php?title=Louis_IX_of_France\n",
      "URL invalida: wiki.answers.com/Q/What_was_the_setting_in_Schooled_by_Gordon_KORMAN\n",
      "URL invalida: luckyclean.info\n",
      "URL invalida: bballone.com/garyp/garypayton.html\n",
      "URL invalida: kronpaks.by/misc/bookmark/bookmark/ii.php\n",
      "URL invalida: blakelivelylouboutin.com/\n",
      "URL invalida: videosurf.com/john-clements-32696\n",
      "URL invalida: www.personal.eunet.fi/pp/fastcut/\n",
      "URL invalida: www.esa.int/esapub/br/br184/br184_14.pdf\n",
      "URL invalida: us.viadeo.com/en/profile/andre.ward\n",
      "URL invalida: airliners.net/photo/Merpati-Nusantara-Airlines/Vickers-953-Vanguard/1803082/L/\n",
      "URL invalida: movies.nytimes.com/person/712046/Louis-Cyr\n",
      "URL invalida: thecommunity.com/files/ambankgroup/en/ebanking/amonline/Pages/index.htm\n",
      "URL invalida: tools.ietf.org/html/rfc2936\n",
      "URL invalida: ufdc.ufl.edu/UF00073793/00236\n",
      "URL invalida: big12sports.com/ViewArticle.dbml?DB_OEM_ID=10410&ATCLID=1523995\n",
      "URL invalida: mathworks.com/matlabcentral/fileexchange/14656\n",
      "URL invalida: milprollc.com/wordpress/drive\n",
      "URL invalida: secure.runescape.com.d.weblagon.loginforn.com/mood/?=www&amp;amp;ssl=0&amp;amp;/\n",
      "URL invalida: shootingrubys.com/\n",
      "URL invalida: www.ifcomputer.co.jp/inap/inap2001/home_en.html\n",
      "URL invalida: brc.ac.uk/plantatlas/index.php?q=plant/calystegia-soldanella\n",
      "URL invalida: facebook.com/pages/Childrens-Mercy-Hospital-Careers/190213751018954\n",
      "URL invalida: peeepl.com/people/gregory-wattis/\n",
      "URL invalida: tools.ietf.org/html/rfc2582\n",
      "URL invalida: bakermckenzie.com/JessicaWicha/\n",
      "URL invalida: christchurchmontrealmusic.blogspot.com/2010_04_01_archive.html\n",
      "URL invalida: logfish.net/pr/ubuntufonts/\n",
      "URL invalida: steamcommunityaddons.5nxs.com/\n",
      "URL invalida: colombofilos.com.ar/subasta32/admin/Drop/Drop/\n",
      "URL invalida: mygrandcherokee.org/2005-jeep-grand-cherokee/\n",
      "URL invalida: ecnext.com/seocm/us/2989301-2989400\n",
      "URL invalida: naruto.wikia.com/wiki/Talk:Zabuza_Momochi\n",
      "URL invalida: www.jroller.com/jeddi/category/J2ME\n",
      "URL invalida: portal.sinpeto.com.br/ww./.dotz.com./._Dotz.com.br_resgate_de_bonus_sorteio_eletronico2016.php\n",
      "URL invalida: kffl.com/gnews.php?id=748841-jaguars-maurice-jones-drew-has-uphill-battle\n",
      "URL invalida: sportsmemorabilia.com/player/Mike_Krushelnyski\n",
      "URL invalida: pastehtml.com/raw/bokrt59f0.html\n",
      "URL invalida: metacritic.com/redirectcritic?p=xbox360&g=ufc2009undisputed\n",
      "URL invalida: www.dvorezsporta.ru/images/stories/fruit/archives/plugingb/login.php\n",
      "URL invalida: skyscraperpage.com/cities/?buildingID=1982\n",
      "URL invalida: allbusiness.com/services/religious-grantmaking-civic-professional/657353-1.html\n",
      "URL invalida: amazon.com/Nostromo-VHS-Claudio-Amendola/dp/6304278977\n",
      "URL invalida: ckuik.com/Kataklysm\n",
      "URL invalida: www.webweaver.nu/clipart/\n",
      "URL invalida: cedarcresticehockey.com/\n",
      "URL invalida: uk.answers.yahoo.com/question/index?qid=20070323090946AAcUmoj\n",
      "URL invalida: huffingtonpost.com/angela-haines/a-ticket-to-global-expans_b_819328.html\n",
      "URL invalida: travel.yahoo.com/p-hotel-482571-xiamen_hotels-i\n",
      "URL invalida: torrentreactor.net/torrents/2020120/Marilyn-Manson-2003-The-Golden-Age-of-Grotesque\n",
      "URL invalida: youtube.com/watch?v=KVKmqemorOw\n",
      "URL invalida: dentalpracticeforsalecaliforniabrokersbuyingorthodonticstarting.com/\n",
      "URL invalida: www.angelfire.com/mo/mcp/\n",
      "URL invalida: www.topix.com/business/asps\n",
      "URL invalida: nashvillescene.com/nashville/jimmy-herring-band/Event?oid=2073548\n",
      "URL invalida: rightmove.co.uk/house-prices/detail.html?originalIncode=&outcode=PO7&incode=&country=england&streetName=Stakes%20Hill%20Road&locality=Waterlooville&buildType=1&propertyType=0&yearSelection=20&sortOrder=ascending&columnToSort=ADDRESS\n",
      "URL invalida: www.coba.unt.edu/isitrc/\n",
      "URL invalida: www938.paypal.co.uk.24149.ssl-230.mx/js/webapps/uk/mpp/?cmnd=_lg&pageName=system_email_PP938\n",
      "URL invalida: passo1.it/RequestRouter.php\n",
      "URL invalida: googleblog.blogspot.com/2011/06/introducing-google-project-real-life.html\n",
      "URL invalida: www.cixiyucai.com/js/?us.battle.net/login/en/?ref=mpkukrtus.battle.net/d3/en/index\n",
      "URL invalida: www.freewebs.com/tradu_es/\n",
      "URL invalida: chippingcampden.org/index.php?/section/C12/\n",
      "URL invalida: www.terranativa.com/wp-includes/css/\n",
      "URL invalida: occupations.careers.org/51-6011.00/laundry-and-dry-cleaning-workers\n",
      "URL invalida: familytreemaker.genealogy.com/users/l/a/j/Ronald-J-Lajoie/COL2-0014.html\n",
      "URL invalida: ilcentralino.net/components/com_jce/yawhmail/acctupdate.html\n",
      "URL invalida: celebta.com/stars/Michele_Scarabelli.asp\n",
      "URL invalida: animationconnection.com/view/hb1026-meet-the-gruesomes\n",
      "URL invalida: stephanpeskin.com/Bio/MatthewLombardi.asp\n",
      "URL invalida: 'services-runescape-com-ms-forum.totalh.net/sl=0-forums.ws.14,15,437,63859515.html'\n",
      "URL invalida: city-data.com/elec/elec-KANSAS-CITY-MO.html\n",
      "URL invalida: us.battle.net.ok.qe-rs.com/login/en/login.html?app=bam&amp;amp;eor=0&amp;amp;ref=https:battle.net/account/&amp;amp;app=wam\n",
      "URL invalida: youtube.com/watch?v=TFIZitDV_dw\n",
      "URL invalida: bcdb.com/cartoons/Warner_Bros_/Shorts/index.html\n",
      "URL invalida: facebook.com/tukufuzuberi\n",
      "URL invalida: wikitravel.org/en/Mont-Tremblant\n",
      "URL invalida: harry-potter-club.deviantart.com/\n",
      "URL invalida: blankass.com/foodrdv/webscr/id/\n",
      "URL invalida: nfl.com/gamecenter/2009101808/2009/REG6/eagles@raiders\n",
      "Discrepancias en data1: 0\n"
     ]
    }
   ],
   "source": [
    "import pydnsbl\n",
    "import asyncio\n",
    "import nest_asyncio\n",
    "import validators\n",
    "\n",
    "nest_asyncio.apply()# permite bucles de eventos anidados\n",
    "resolver= pydnsbl.DNSBLIpChecker()\n",
    "\n",
    "#funcion asincronica para verificar url\n",
    "async def verificar_url(url):\n",
    "    if not validators.url(url):\n",
    "        print(f\"URL invalida: {url}\")\n",
    "        return \"invalid\"\n",
    "    try:\n",
    "        result =await resolver.check_async(url)\n",
    "        if result.blacklisted:\n",
    "            return \"bad\"\n",
    "        else:\n",
    "            return \"god\"\n",
    "    except ValueError as e:\n",
    "        print(f\" Error verificando URL {url}: {e}\")\n",
    "        return \"unknowm\"\n",
    "# Función para comparar y contar las discrepancias \n",
    "async def comparar_resultados(muestra, URL_column, Label_column):\n",
    "    discrepancias = 0 \n",
    "    for index, row in muestra.iterrows(): \n",
    "        url = row[URL_column] \n",
    "        tipo = row[Label_column] \n",
    "        bad = await verificar_url(url) \n",
    "# Comprobar si la verificación coincide con el tipo \n",
    "        if (bad == \"bad\" and tipo == 'god') or (bad==\"god\" and tipo =='bad'):\n",
    "            discrepancias += 1 \n",
    "    return discrepancias \n",
    "# Comparar resultados para la muestra de data1 \n",
    "discrepancias_data1 = asyncio.run(comparar_resultados(muestra1, 'URL', 'Label')) \n",
    "# Imprimir los resultados \n",
    "print(f\"Discrepancias en data1: {discrepancias_data1}\")\n",
    "\n"
   ]
  },
  {
   "cell_type": "markdown",
   "metadata": {},
   "source": [
    "# Concatenamos datas"
   ]
  },
  {
   "cell_type": "code",
   "execution_count": 230,
   "metadata": {},
   "outputs": [
    {
     "name": "stdout",
     "output_type": "stream",
     "text": [
      "Las datas han sido unidas\n",
      "Index(['url', 'status'], dtype='object')\n"
     ]
    }
   ],
   "source": [
    "#renombrar columnas \n",
    "data1.rename(columns={'URL': 'url', 'Label': 'status'}, inplace=True)\n",
    "data2.rename(columns={'type': 'status'}, inplace=True)\n",
    "#actualizamos las etiquetas del data1\n",
    "data1['status']=data1['status'].replace({'bad': 'phishing', 'good': 'legitimate'})\n",
    "\n",
    "#unir datas\n",
    "datas=pd.concat([data1,data2], ignore_index=True)\n",
    "print(\"Las datas han sido unidas\")\n",
    "print(datas.columns)"
   ]
  },
  {
   "cell_type": "code",
   "execution_count": 231,
   "metadata": {},
   "outputs": [
    {
     "name": "stdout",
     "output_type": "stream",
     "text": [
      "<class 'pandas.core.frame.DataFrame'>\n",
      "RangeIndex: 957372 entries, 0 to 957371\n",
      "Data columns (total 2 columns):\n",
      " #   Column  Non-Null Count   Dtype \n",
      "---  ------  --------------   ----- \n",
      " 0   url     957372 non-null  object\n",
      " 1   status  957372 non-null  object\n",
      "dtypes: object(2)\n",
      "memory usage: 14.6+ MB\n"
     ]
    }
   ],
   "source": [
    "datas.info()"
   ]
  },
  {
   "cell_type": "code",
   "execution_count": 232,
   "metadata": {},
   "outputs": [
    {
     "name": "stdout",
     "output_type": "stream",
     "text": [
      "status\n",
      "legitimate    738635\n",
      "phishing      218737\n",
      "Name: count, dtype: int64\n"
     ]
    }
   ],
   "source": [
    "conteo_datas= datas['status'].value_counts()\n",
    "print(conteo_datas)\n"
   ]
  },
  {
   "cell_type": "code",
   "execution_count": null,
   "metadata": {},
   "outputs": [
    {
     "name": "stdout",
     "output_type": "stream",
     "text": [
      "                                                 url    status   a  b   c   d  \\\n",
      "0  nobell.it/70ffb52d079109dca5664cce6f317373782/...  phishing  10  4  13  10   \n",
      "1  www.dghjdgf.com/paypal.co.uk/cycgi-bin/webscrc...  phishing   4  2   7   4   \n",
      "2  serviciosbys.com/paypal.cgi.bin.get-into.herf....  phishing   7  2  11   5   \n",
      "3  mail.printakid.com/www.online.americanexpress....  phishing   4  0   3   2   \n",
      "4  thewhiskeydregs.com/wp-content/themes/widescre...  phishing   0  0   5   3   \n",
      "\n",
      "    e  f  g  h  ...  1  2  3  4   5  6  7  8  9  has_ip  \n",
      "0  13  9  6  2  ...  6  6  7  3   6  7  9  2  4       0  \n",
      "1   3  1  4  3  ...  1  0  0  0   0  0  0  0  0       0  \n",
      "2  16  8  2  5  ...  4  7  7  6  10  7  3  2  1       0  \n",
      "3   5  0  0  1  ...  0  0  0  0   0  0  0  0  0       0  \n",
      "4  13  0  1  3  ...  0  4  0  5   0  0  6  6  0       0  \n",
      "\n",
      "[5 rows x 72 columns]\n"
     ]
    }
   ],
   "source": [
    "import string\n",
    "\n",
    "# Función para estandarizar las urls \n",
    "def remove_prefixes(url): \n",
    "    prefixes=['https://', 'http://', 'ftp://', 'www.']\n",
    "    for prefix in prefixes: \n",
    "        if url.startswith(prefix):\n",
    "            return url[len(prefix):] \n",
    "        return url\n",
    "datas['url'] = datas['url'].apply(remove_prefixes)\n",
    "\n",
    "#Se añade columnas\n",
    "#definir el alfabeto y otros caracteres\n",
    "alfabeto= string.ascii_lowercase\n",
    "caracteres=\"!@#$%^&*()_+-=[]{}|;:'\\\",.<>?/\"\n",
    "numeros=\"0123456789\"\n",
    "#funcion para contar las ocurrecnias de cada caracter\n",
    "def count_chars(url,chars):\n",
    "    return{chars:url.count(char)for char in chars}\n",
    "#añadir columna longitus de la url\n",
    "datas['url_lenght']=datas['url'].apply(len)\n",
    "#añadir numero de caracteres especiales\n",
    "datas['num_special_chars']=datas['url'].apply(lambda x: sum(x.count(c) for c in caracteres))\n",
    "#añadir columnas para cada letra de alfabeto.\n",
    "for char in alfabeto:\n",
    "    datas[char]=datas['url'].apply(lambda x: x.count(char))\n",
    "#añadir columnas para cada numeor\n",
    "for num in numeros:\n",
    "    datas[num]=datas['url'].apply(lambda x: x.count(num))\n",
    "#añadir columnas para caracteres\n",
    "for char in caracteres:\n",
    "    datas[char]=datas['url'].apply(lambda x: x.count(char))\n",
    "# Añadir columna de número de subdominios \n",
    "datas['num_subdomains'] = datas['url'].apply(lambda x: x.count('.')) \n",
    "# Añadir columna para presencia de HTTPS \n",
    "datas['has_https'] = datas['url'].apply(lambda x: 1 if 'https' in x else 0) \n",
    "# Añadir columna para presencia de IP en el dominio \n",
    "import re \n",
    "datas['has_ip'] = datas['url'].apply(lambda x: 1 if re.match(r'http[s]?://\\d+\\.\\d+\\.\\d+\\.\\d+', x) else 0) \n",
    "\n",
    "print(datas.head())    "
   ]
  },
  {
   "cell_type": "code",
   "execution_count": 241,
   "metadata": {},
   "outputs": [],
   "source": [
    "datas.to_csv('datas.csv', index=False)"
   ]
  }
 ],
 "metadata": {
  "kernelspec": {
   "display_name": "AV1",
   "language": "python",
   "name": "python3"
  },
  "language_info": {
   "codemirror_mode": {
    "name": "ipython",
    "version": 3
   },
   "file_extension": ".py",
   "mimetype": "text/x-python",
   "name": "python",
   "nbconvert_exporter": "python",
   "pygments_lexer": "ipython3",
   "version": "3.12.5"
  }
 },
 "nbformat": 4,
 "nbformat_minor": 2
}
